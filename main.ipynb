{
 "cells": [
  {
   "cell_type": "code",
   "execution_count": 1,
   "metadata": {},
   "outputs": [],
   "source": [
    "import math\n",
    "import torch\n",
    "import gpytorch\n",
    "from matplotlib import pyplot as plt\n",
    "from tqdm import tqdm\n",
    "from getdata import get_tensor_dataset\n",
    "\n",
    "%matplotlib inline\n",
    "%load_ext autoreload\n",
    "%autoreload 2"
   ]
  },
  {
   "cell_type": "code",
   "execution_count": 2,
   "metadata": {},
   "outputs": [
    {
     "name": "stdout",
     "output_type": "stream",
     "text": [
      "torch.Size([1399]) torch.Size([1399]) torch.Size([2851]) torch.Size([2851])\n"
     ]
    }
   ],
   "source": [
    "# Step 1: Load data\n",
    "file_path = \"./data/\"\n",
    "file_name = \"BA.csv\"\n",
    "train_x, train_y, test_x, test_y = get_tensor_dataset(file_path, file_name, 1, 1)\n",
    "print(train_x.shape, train_y.shape, test_x.shape, test_y.shape)"
   ]
  },
  {
   "cell_type": "code",
   "execution_count": 3,
   "metadata": {},
   "outputs": [],
   "source": [
    "# We will use the simplest form of GP model, exact inference\n",
    "class ExactGPModel(gpytorch.models.ExactGP):\n",
    "    def __init__(self, train_x, train_y, likelihood):\n",
    "        super(ExactGPModel, self).__init__(train_x, train_y, likelihood)\n",
    "        self.mean_module = gpytorch.means.ConstantMean()\n",
    "        self.covar_module = gpytorch.kernels.ScaleKernel(gpytorch.kernels.RBFKernel())\n",
    "\n",
    "    def forward(self, x):\n",
    "        mean_x = self.mean_module(x)\n",
    "        covar_x = self.covar_module(x)\n",
    "        return gpytorch.distributions.MultivariateNormal(mean_x, covar_x)\n",
    "\n",
    "# initialize likelihood and model\n",
    "likelihood = gpytorch.likelihoods.GaussianLikelihood()\n",
    "model = ExactGPModel(train_x, train_y, likelihood)"
   ]
  },
  {
   "cell_type": "code",
   "execution_count": 4,
   "metadata": {},
   "outputs": [],
   "source": [
    "# to cuda\n",
    "train_x = train_x.cuda()\n",
    "train_y = train_y.cuda()\n",
    "test_x = test_x.cuda()\n",
    "test_y = test_y.cuda()\n",
    "model = model.cuda()\n",
    "likelihood = likelihood.cuda()"
   ]
  },
  {
   "cell_type": "code",
   "execution_count": 5,
   "metadata": {},
   "outputs": [
    {
     "name": "stdout",
     "output_type": "stream",
     "text": [
      "Iter 1/50 - Loss: 854.150   lengthscale: 0.693   noise: 0.693\n",
      "Iter 2/50 - Loss: 757.368   lengthscale: 0.744   noise: 0.744\n",
      "Iter 3/50 - Loss: 672.919   lengthscale: 0.798   noise: 0.798\n",
      "Iter 4/50 - Loss: 599.863   lengthscale: 0.853   noise: 0.853\n",
      "Iter 5/50 - Loss: 536.375   lengthscale: 0.911   noise: 0.908\n",
      "Iter 6/50 - Loss: 481.195   lengthscale: 0.969   noise: 0.965\n",
      "Iter 7/50 - Loss: 433.262   lengthscale: 1.029   noise: 1.022\n",
      "Iter 8/50 - Loss: 391.797   lengthscale: 1.090   noise: 1.079\n",
      "Iter 9/50 - Loss: 355.675   lengthscale: 1.151   noise: 1.135\n",
      "Iter 10/50 - Loss: 324.258   lengthscale: 1.212   noise: 1.190\n",
      "Iter 11/50 - Loss: 296.924   lengthscale: 1.274   noise: 1.244\n",
      "Iter 12/50 - Loss: 272.955   lengthscale: 1.335   noise: 1.297\n",
      "Iter 13/50 - Loss: 251.977   lengthscale: 1.396   noise: 1.348\n",
      "Iter 14/50 - Loss: 233.525   lengthscale: 1.456   noise: 1.397\n",
      "Iter 15/50 - Loss: 217.244   lengthscale: 1.515   noise: 1.445\n",
      "Iter 16/50 - Loss: 202.851   lengthscale: 1.573   noise: 1.491\n",
      "Iter 17/50 - Loss: 190.083   lengthscale: 1.630   noise: 1.535\n",
      "Iter 18/50 - Loss: 178.717   lengthscale: 1.686   noise: 1.577\n",
      "Iter 19/50 - Loss: 168.583   lengthscale: 1.740   noise: 1.617\n",
      "Iter 20/50 - Loss: 159.522   lengthscale: 1.793   noise: 1.655\n",
      "Iter 21/50 - Loss: 151.341   lengthscale: 1.845   noise: 1.692\n",
      "Iter 22/50 - Loss: 144.001   lengthscale: 1.895   noise: 1.727\n",
      "Iter 23/50 - Loss: 137.365   lengthscale: 1.944   noise: 1.759\n",
      "Iter 24/50 - Loss: 131.339   lengthscale: 1.991   noise: 1.791\n",
      "Iter 25/50 - Loss: 125.882   lengthscale: 2.037   noise: 1.820\n",
      "Iter 26/50 - Loss: 120.904   lengthscale: 2.082   noise: 1.848\n",
      "Iter 27/50 - Loss: 116.353   lengthscale: 2.125   noise: 1.875\n",
      "Iter 28/50 - Loss: 112.189   lengthscale: 2.166   noise: 1.900\n",
      "Iter 29/50 - Loss: 108.370   lengthscale: 2.207   noise: 1.924\n",
      "Iter 30/50 - Loss: 104.819   lengthscale: 2.246   noise: 1.946\n",
      "Iter 31/50 - Loss: 101.586   lengthscale: 2.284   noise: 1.968\n",
      "Iter 32/50 - Loss: 98.579   lengthscale: 2.320   noise: 1.988\n",
      "Iter 33/50 - Loss: 95.789   lengthscale: 2.356   noise: 2.007\n",
      "Iter 34/50 - Loss: 93.185   lengthscale: 2.390   noise: 2.025\n",
      "Iter 35/50 - Loss: 90.776   lengthscale: 2.423   noise: 2.042\n",
      "Iter 36/50 - Loss: 88.530   lengthscale: 2.456   noise: 2.058\n",
      "Iter 37/50 - Loss: 86.429   lengthscale: 2.487   noise: 2.074\n",
      "Iter 38/50 - Loss: 84.440   lengthscale: 2.517   noise: 2.088\n",
      "Iter 39/50 - Loss: 82.598   lengthscale: 2.547   noise: 2.102\n",
      "Iter 40/50 - Loss: 80.860   lengthscale: 2.575   noise: 2.115\n",
      "Iter 41/50 - Loss: 79.211   lengthscale: 2.603   noise: 2.128\n",
      "Iter 42/50 - Loss: 77.666   lengthscale: 2.630   noise: 2.140\n",
      "Iter 43/50 - Loss: 76.199   lengthscale: 2.656   noise: 2.151\n",
      "Iter 44/50 - Loss: 74.809   lengthscale: 2.682   noise: 2.162\n",
      "Iter 45/50 - Loss: 73.490   lengthscale: 2.707   noise: 2.172\n",
      "Iter 46/50 - Loss: 72.239   lengthscale: 2.731   noise: 2.182\n",
      "Iter 47/50 - Loss: 71.054   lengthscale: 2.755   noise: 2.191\n",
      "Iter 48/50 - Loss: 69.919   lengthscale: 2.778   noise: 2.200\n",
      "Iter 49/50 - Loss: 68.812   lengthscale: 2.801   noise: 2.208\n",
      "Iter 50/50 - Loss: 67.781   lengthscale: 2.823   noise: 2.217\n"
     ]
    }
   ],
   "source": [
    "training_iter = 50\n",
    "\n",
    "# Find optimal model hyperparameters\n",
    "model.train()\n",
    "likelihood.train()\n",
    "\n",
    "# Use the adam optimizer\n",
    "optimizer = torch.optim.Adam(model.parameters(), lr=0.1)  # Includes GaussianLikelihood parameters\n",
    "\n",
    "# \"Loss\" for GPs - the marginal log likelihood\n",
    "mll = gpytorch.mlls.ExactMarginalLogLikelihood(likelihood, model)\n",
    "\n",
    "for i in range(training_iter):\n",
    "    # Zero gradients from previous iteration\n",
    "    optimizer.zero_grad()\n",
    "    # Output from model\n",
    "    output = model(train_x)\n",
    "    # Calc loss and backprop gradients\n",
    "    loss = -mll(output, train_y)\n",
    "    loss.backward()\n",
    "    print('Iter %d/%d - Loss: %.3f   lengthscale: %.3f   noise: %.3f' % (\n",
    "        i + 1, training_iter, loss.item(),\n",
    "        model.covar_module.base_kernel.lengthscale.item(),\n",
    "        model.likelihood.noise.item()\n",
    "    ))\n",
    "    optimizer.step()"
   ]
  },
  {
   "cell_type": "code",
   "execution_count": 6,
   "metadata": {},
   "outputs": [],
   "source": [
    "# Get into evaluation (predictive posterior) mode\n",
    "model.eval()\n",
    "likelihood.eval()\n",
    "\n",
    "# Test points are regularly spaced along [0,1]\n",
    "# Make predictions by feeding model through likelihood\n",
    "with torch.no_grad(), gpytorch.settings.fast_pred_var():\n",
    "    observed_pred = likelihood(model(test_x))\n",
    "    mean = observed_pred.mean\n",
    "    lower, upper = observed_pred.confidence_region()"
   ]
  },
  {
   "cell_type": "code",
   "execution_count": 7,
   "metadata": {},
   "outputs": [],
   "source": [
    "mean = mean.cpu()\n",
    "lower = lower.cpu()\n",
    "upper = upper.cpu()\n",
    "\n",
    "train_x = train_x.cpu()\n",
    "train_y = train_y.cpu()\n",
    "test_x = test_x.cpu()"
   ]
  },
  {
   "cell_type": "code",
   "execution_count": 8,
   "metadata": {},
   "outputs": [
    {
     "data": {
      "image/png": "[encoded data removed]",
      "text/plain": [
       "<Figure size 1000x500 with 1 Axes>"
      ]
     },
     "metadata": {},
     "output_type": "display_data"
    }
   ],
   "source": [
    "with torch.no_grad():\n",
    "    # Initialize plot\n",
    "    f, ax = plt.subplots(1, 1, figsize=(10, 5))\n",
    "\n",
    "    # for train_x, start from 10000\n",
    "    plot_x = train_x[:].numpy()\n",
    "    plot_y = train_y[:].numpy() \n",
    "\n",
    "    # Plot training data as black stars\n",
    "    ax.plot(plot_x, plot_y, 'r')\n",
    "    # Plot predictive means as blue line\n",
    "    ax.plot(test_x.numpy(), mean.numpy(), 'b')\n",
    "    # Shade between the lower and upper confidence bounds\n",
    "    ax.fill_between(test_x.numpy(), lower.numpy(), upper.numpy(), alpha=0.5)\n",
    "    ax.legend(['Observed Data', 'Mean', 'Confidence'])"
   ]
  }
 ],
 "metadata": {
  "kernelspec": {
   "display_name": "stochastic",
   "language": "python",
   "name": "python3"
  },
  "language_info": {
   "codemirror_mode": {
    "name": "ipython",
    "version": 3
   },
   "file_extension": ".py",
   "mimetype": "text/x-python",
   "name": "python",
   "nbconvert_exporter": "python",
   "pygments_lexer": "ipython3",
   "version": "3.8.16"
  },
  "orig_nbformat": 4
 },
 "nbformat": 4,
 "nbformat_minor": 2
}
