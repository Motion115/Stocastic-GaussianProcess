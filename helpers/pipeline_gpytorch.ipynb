{
 "cells": [
  {
   "cell_type": "code",
   "execution_count": 1,
   "metadata": {},
   "outputs": [],
   "source": [
    "import math\n",
    "import torch\n",
    "import gpytorch\n",
    "from matplotlib import pyplot as plt\n",
    "\n",
    "%matplotlib inline\n",
    "%load_ext autoreload\n",
    "%autoreload 2"
   ]
  },
  {
   "cell_type": "code",
   "execution_count": 2,
   "metadata": {},
   "outputs": [
    {
     "name": "stdout",
     "output_type": "stream",
     "text": [
      "torch.Size([100]) torch.Size([100])\n"
     ]
    }
   ],
   "source": [
    "# Training data is 100 points in [0,1] inclusive regularly spaced\n",
    "train_x = torch.linspace(0, 1, 100)\n",
    "# True function is sin(2*pi*x) with Gaussian noise\n",
    "train_y = torch.sin(train_x * (2 * math.pi)) + torch.randn(train_x.size()) * math.sqrt(0.04)\n",
    "print(train_x.shape, train_y.shape)"
   ]
  },
  {
   "cell_type": "code",
   "execution_count": 3,
   "metadata": {},
   "outputs": [],
   "source": [
    "# We will use the simplest form of GP model, exact inference\n",
    "class ExactGPModel(gpytorch.models.ExactGP):\n",
    "    def __init__(self, train_x, train_y, likelihood):\n",
    "        super(ExactGPModel, self).__init__(train_x, train_y, likelihood)\n",
    "        self.mean_module = gpytorch.means.ConstantMean()\n",
    "        self.covar_module = gpytorch.kernels.ScaleKernel(gpytorch.kernels.RBFKernel())\n",
    "\n",
    "    def forward(self, x):\n",
    "        mean_x = self.mean_module(x)\n",
    "        covar_x = self.covar_module(x)\n",
    "        return gpytorch.distributions.MultivariateNormal(mean_x, covar_x)\n",
    "\n",
    "# initialize likelihood and model\n",
    "likelihood = gpytorch.likelihoods.GaussianLikelihood()\n",
    "model = ExactGPModel(train_x, train_y, likelihood)"
   ]
  },
  {
   "cell_type": "code",
   "execution_count": 4,
   "metadata": {},
   "outputs": [],
   "source": [
    "train_x = train_x.cuda()\n",
    "train_y = train_y.cuda()\n",
    "model = model.cuda()\n",
    "likelihood = likelihood.cuda()"
   ]
  },
  {
   "cell_type": "code",
   "execution_count": 5,
   "metadata": {},
   "outputs": [
    {
     "name": "stdout",
     "output_type": "stream",
     "text": [
      "Iter 1/50 - Loss: 0.926   lengthscale: 0.693   noise: 0.693\n",
      "Iter 2/50 - Loss: 0.895   lengthscale: 0.644   noise: 0.644\n",
      "Iter 3/50 - Loss: 0.861   lengthscale: 0.598   noise: 0.598\n",
      "Iter 4/50 - Loss: 0.824   lengthscale: 0.555   noise: 0.554\n",
      "Iter 5/50 - Loss: 0.783   lengthscale: 0.514   noise: 0.513\n",
      "Iter 6/50 - Loss: 0.738   lengthscale: 0.475   noise: 0.474\n",
      "Iter 7/50 - Loss: 0.690   lengthscale: 0.439   noise: 0.437\n",
      "Iter 8/50 - Loss: 0.642   lengthscale: 0.404   noise: 0.402\n",
      "Iter 9/50 - Loss: 0.596   lengthscale: 0.372   noise: 0.370\n",
      "Iter 10/50 - Loss: 0.553   lengthscale: 0.342   noise: 0.339\n",
      "Iter 11/50 - Loss: 0.515   lengthscale: 0.315   noise: 0.311\n",
      "Iter 12/50 - Loss: 0.480   lengthscale: 0.292   noise: 0.284\n",
      "Iter 13/50 - Loss: 0.446   lengthscale: 0.273   noise: 0.260\n",
      "Iter 14/50 - Loss: 0.414   lengthscale: 0.258   noise: 0.237\n",
      "Iter 15/50 - Loss: 0.382   lengthscale: 0.245   noise: 0.216\n",
      "Iter 16/50 - Loss: 0.350   lengthscale: 0.236   noise: 0.197\n",
      "Iter 17/50 - Loss: 0.319   lengthscale: 0.229   noise: 0.179\n",
      "Iter 18/50 - Loss: 0.288   lengthscale: 0.225   noise: 0.163\n",
      "Iter 19/50 - Loss: 0.258   lengthscale: 0.222   noise: 0.149\n",
      "Iter 20/50 - Loss: 0.228   lengthscale: 0.222   noise: 0.135\n",
      "Iter 21/50 - Loss: 0.200   lengthscale: 0.223   noise: 0.123\n",
      "Iter 22/50 - Loss: 0.173   lengthscale: 0.225   noise: 0.112\n",
      "Iter 23/50 - Loss: 0.147   lengthscale: 0.229   noise: 0.102\n",
      "Iter 24/50 - Loss: 0.124   lengthscale: 0.234   noise: 0.093\n",
      "Iter 25/50 - Loss: 0.102   lengthscale: 0.241   noise: 0.085\n",
      "Iter 26/50 - Loss: 0.083   lengthscale: 0.248   noise: 0.078\n",
      "Iter 27/50 - Loss: 0.067   lengthscale: 0.256   noise: 0.071\n",
      "Iter 28/50 - Loss: 0.054   lengthscale: 0.264   noise: 0.066\n",
      "Iter 29/50 - Loss: 0.044   lengthscale: 0.273   noise: 0.061\n",
      "Iter 30/50 - Loss: 0.037   lengthscale: 0.282   noise: 0.056\n",
      "Iter 31/50 - Loss: 0.033   lengthscale: 0.290   noise: 0.052\n",
      "Iter 32/50 - Loss: 0.032   lengthscale: 0.298   noise: 0.049\n",
      "Iter 33/50 - Loss: 0.034   lengthscale: 0.305   noise: 0.046\n",
      "Iter 34/50 - Loss: 0.037   lengthscale: 0.310   noise: 0.043\n",
      "Iter 35/50 - Loss: 0.041   lengthscale: 0.313   noise: 0.041\n",
      "Iter 36/50 - Loss: 0.045   lengthscale: 0.314   noise: 0.040\n",
      "Iter 37/50 - Loss: 0.048   lengthscale: 0.313   noise: 0.038\n",
      "Iter 38/50 - Loss: 0.051   lengthscale: 0.310   noise: 0.037\n",
      "Iter 39/50 - Loss: 0.053   lengthscale: 0.306   noise: 0.037\n",
      "Iter 40/50 - Loss: 0.054   lengthscale: 0.301   noise: 0.036\n",
      "Iter 41/50 - Loss: 0.054   lengthscale: 0.295   noise: 0.036\n",
      "Iter 42/50 - Loss: 0.053   lengthscale: 0.289   noise: 0.036\n",
      "Iter 43/50 - Loss: 0.051   lengthscale: 0.284   noise: 0.037\n",
      "Iter 44/50 - Loss: 0.049   lengthscale: 0.279   noise: 0.037\n",
      "Iter 45/50 - Loss: 0.047   lengthscale: 0.275   noise: 0.038\n",
      "Iter 46/50 - Loss: 0.044   lengthscale: 0.271   noise: 0.039\n",
      "Iter 47/50 - Loss: 0.042   lengthscale: 0.268   noise: 0.040\n",
      "Iter 48/50 - Loss: 0.040   lengthscale: 0.267   noise: 0.041\n",
      "Iter 49/50 - Loss: 0.037   lengthscale: 0.266   noise: 0.042\n",
      "Iter 50/50 - Loss: 0.036   lengthscale: 0.265   noise: 0.043\n"
     ]
    }
   ],
   "source": [
    "# this is for running the notebook in our testing framework\n",
    "import os\n",
    "smoke_test = ('CI' in os.environ)\n",
    "training_iter = 2 if smoke_test else 50\n",
    "\n",
    "# Find optimal model hyperparameters\n",
    "model.train()\n",
    "likelihood.train()\n",
    "\n",
    "# Use the adam optimizer\n",
    "optimizer = torch.optim.Adam(model.parameters(), lr=0.1)  # Includes GaussianLikelihood parameters\n",
    "\n",
    "# \"Loss\" for GPs - the marginal log likelihood\n",
    "mll = gpytorch.mlls.ExactMarginalLogLikelihood(likelihood, model)\n",
    "\n",
    "for i in range(training_iter):\n",
    "    # Zero gradients from previous iteration\n",
    "    optimizer.zero_grad()\n",
    "    # Output from model\n",
    "    output = model(train_x)\n",
    "    # Calc loss and backprop gradients\n",
    "    loss = -mll(output, train_y)\n",
    "    loss.backward()\n",
    "    print('Iter %d/%d - Loss: %.3f   lengthscale: %.3f   noise: %.3f' % (\n",
    "        i + 1, training_iter, loss.item(),\n",
    "        model.covar_module.base_kernel.lengthscale.item(),\n",
    "        model.likelihood.noise.item()\n",
    "    ))\n",
    "    optimizer.step()"
   ]
  },
  {
   "cell_type": "code",
   "execution_count": 6,
   "metadata": {},
   "outputs": [],
   "source": [
    "test_x = torch.linspace(0, 1, 51).cuda()"
   ]
  },
  {
   "cell_type": "code",
   "execution_count": 7,
   "metadata": {},
   "outputs": [],
   "source": [
    "# Get into evaluation (predictive posterior) mode\n",
    "model.eval()\n",
    "likelihood.eval()\n",
    "\n",
    "# Test points are regularly spaced along [0,1]\n",
    "# Make predictions by feeding model through likelihood\n",
    "with torch.no_grad(), gpytorch.settings.fast_pred_var():\n",
    "    observed_pred = likelihood(model(test_x))\n",
    "    mean = observed_pred.mean\n",
    "    lower, upper = observed_pred.confidence_region()"
   ]
  },
  {
   "cell_type": "code",
   "execution_count": 8,
   "metadata": {},
   "outputs": [],
   "source": [
    "mean = mean.cpu()\n",
    "lower = lower.cpu()\n",
    "upper = upper.cpu()\n",
    "\n",
    "train_x = train_x.cpu()\n",
    "train_y = train_y.cpu()\n",
    "test_x = test_x.cpu()"
   ]
  },
  {
   "cell_type": "code",
   "execution_count": 9,
   "metadata": {},
   "outputs": [
    {
     "data": {
      "image/png": "[encoded data removed]",
      "text/plain": [
       "<Figure size 400x300 with 1 Axes>"
      ]
     },
     "metadata": {},
     "output_type": "display_data"
    }
   ],
   "source": [
    "with torch.no_grad():\n",
    "    # Initialize plot\n",
    "    f, ax = plt.subplots(1, 1, figsize=(4, 3))\n",
    "\n",
    "    # Plot training data as black stars\n",
    "    ax.plot(train_x.numpy(), train_y.numpy(), 'k*')\n",
    "    # Plot predictive means as blue line\n",
    "    ax.plot(test_x.numpy(), mean.numpy(), 'b')\n",
    "    # Shade between the lower and upper confidence bounds\n",
    "    ax.fill_between(test_x.numpy(), lower.numpy(), upper.numpy(), alpha=0.5)\n",
    "    ax.set_ylim([-3, 3])\n",
    "    ax.legend(['Observed Data', 'Mean', 'Confidence'])"
   ]
  }
 ],
 "metadata": {
  "kernelspec": {
   "display_name": "stochastic",
   "language": "python",
   "name": "python3"
  },
  "language_info": {
   "codemirror_mode": {
    "name": "ipython",
    "version": 3
   },
   "file_extension": ".py",
   "mimetype": "text/x-python",
   "name": "python",
   "nbconvert_exporter": "python",
   "pygments_lexer": "ipython3",
   "version": "3.8.16"
  },
  "orig_nbformat": 4
 },
 "nbformat": 4,
 "nbformat_minor": 2
}
